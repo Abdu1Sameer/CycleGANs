{
  "cells": [
    {
      "cell_type": "markdown",
      "metadata": {
        "id": "3WgQaGKq4RG2"
      },
      "source": [
        "# Linear and Logistic Regression\n",
        "- **100 points**\n",
        "\n",
        "### Instructions\n",
        "- you cannot use any other library.Write the code from scratch.\n",
        "- You're free to add any number of methods within each class.\n",
        "- You may also add any number of additional code blocks that you deem necessary.\n",
        "- link for the datasets - https://drive.google.com/drive/folders/1MXmIChMxodGbEpowyVJBFLdvaDpj23gd?usp=sharing\n"
      ]
    },
    {
      "cell_type": "markdown",
      "metadata": {
        "id": "JR9X7Smj4RG3"
      },
      "source": [
        "## Question 1 (50 points)\n",
        "\n",
        "## Linear Regression\n",
        "\n",
        "In this section, we'll implement a linear regression model that can learn to predict a target/dependent variable based on multiple independent variables. We'll be using gradient descent to train the model."
      ]
    },
    {
      "cell_type": "code",
      "execution_count": 3,
      "metadata": {
        "id": "Qdsy9_mV4RG4"
      },
      "outputs": [],
      "source": [
        "# Importing Libraries\n",
        "import time\n",
        "import math\n",
        "import numpy as np\n",
        "import pandas as pd\n",
        "import matplotlib.pyplot as plt\n",
        "%matplotlib inline"
      ]
    },
    {
      "cell_type": "markdown",
      "metadata": {
        "id": "RFCcSgtV4RG5"
      },
      "source": [
        "### Data Preparation.\n",
        "To keep things simple, first we'll use a toy dataset to test our implementation. This dataset contains the heights and weights of a few individuals. Our goal is to predict the weight of an individual given their height using a linear regression model."
      ]
    },
    {
      "cell_type": "code",
      "execution_count": 334,
      "metadata": {
        "id": "Z_-53bJa4RG5"
      },
      "outputs": [],
      "source": [
        "df = pd.read_csv('heights.csv')"
      ]
    },
    {
      "cell_type": "code",
      "execution_count": 335,
      "metadata": {
        "id": "KQwz0GN-4RG5"
      },
      "outputs": [
        {
          "data": {
            "text/html": [
              "<div>\n",
              "<style scoped>\n",
              "    .dataframe tbody tr th:only-of-type {\n",
              "        vertical-align: middle;\n",
              "    }\n",
              "\n",
              "    .dataframe tbody tr th {\n",
              "        vertical-align: top;\n",
              "    }\n",
              "\n",
              "    .dataframe thead th {\n",
              "        text-align: right;\n",
              "    }\n",
              "</style>\n",
              "<table border=\"1\" class=\"dataframe\">\n",
              "  <thead>\n",
              "    <tr style=\"text-align: right;\">\n",
              "      <th></th>\n",
              "      <th>Height</th>\n",
              "      <th>Weight</th>\n",
              "    </tr>\n",
              "  </thead>\n",
              "  <tbody>\n",
              "    <tr>\n",
              "      <th>0</th>\n",
              "      <td>1.47</td>\n",
              "      <td>52.21</td>\n",
              "    </tr>\n",
              "    <tr>\n",
              "      <th>1</th>\n",
              "      <td>1.50</td>\n",
              "      <td>53.12</td>\n",
              "    </tr>\n",
              "    <tr>\n",
              "      <th>2</th>\n",
              "      <td>1.52</td>\n",
              "      <td>54.48</td>\n",
              "    </tr>\n",
              "    <tr>\n",
              "      <th>3</th>\n",
              "      <td>1.55</td>\n",
              "      <td>55.84</td>\n",
              "    </tr>\n",
              "    <tr>\n",
              "      <th>4</th>\n",
              "      <td>1.57</td>\n",
              "      <td>57.20</td>\n",
              "    </tr>\n",
              "  </tbody>\n",
              "</table>\n",
              "</div>"
            ],
            "text/plain": [
              "   Height  Weight\n",
              "0    1.47   52.21\n",
              "1    1.50   53.12\n",
              "2    1.52   54.48\n",
              "3    1.55   55.84\n",
              "4    1.57   57.20"
            ]
          },
          "execution_count": 335,
          "metadata": {},
          "output_type": "execute_result"
        }
      ],
      "source": [
        "df.head()"
      ]
    },
    {
      "cell_type": "code",
      "execution_count": 336,
      "metadata": {
        "id": "EjpMxn7O4RG6"
      },
      "outputs": [
        {
          "data": {
            "image/png": "[encoded data removed]",
            "text/plain": [
              "<Figure size 640x480 with 1 Axes>"
            ]
          },
          "metadata": {},
          "output_type": "display_data"
        }
      ],
      "source": [
        "import matplotlib.pyplot as plt\n",
        "\n",
        "plt.scatter(df['Height'], df['Weight'], marker='X')\n",
        "plt.xlabel(\"Height\")\n",
        "plt.ylabel(\"Weight\")\n",
        "plt.show()"
      ]
    },
    {
      "cell_type": "markdown",
      "metadata": {
        "id": "_r3tAqoT4RG6"
      },
      "source": [
        "Looking at the distribution of the data, it seems like `Weight` and `Height` have a linear relationship. Hence, a linear regression model should be able to capture this relationship.  \n",
        "\n",
        "Let's us convert the dataframe `df` to a Numpy array so that it is easier to perform operations on it."
      ]
    },
    {
      "cell_type": "code",
      "execution_count": 337,
      "metadata": {
        "id": "7jsY8pC-4RG6"
      },
      "outputs": [],
      "source": [
        "X_train = np.array(df['Height'])\n",
        "y_train = np.array(df['Weight'])\n",
        "X_train = np.expand_dims(X_train, -1)"
      ]
    },
    {
      "cell_type": "markdown",
      "metadata": {
        "id": "MfVJtXGE4RG7"
      },
      "source": [
        "### (30 points) Implement the ` LinearRegression` class\n",
        "Make sure it works with more than 1 feature.  \n",
        "**NOTE:** Do **NOT** forget to include a bias term in the weights."
      ]
    },
    {
      "cell_type": "code",
      "execution_count": 338,
      "metadata": {
        "id": "gKNs0n0r4RG7"
      },
      "outputs": [],
      "source": [
        "class LinearRegression:\n",
        "    def __init__(self, lr=0.001, epochs=30):\n",
        "        \"\"\"\n",
        "        Fits a linear regression model on a given dataset.\n",
        "\n",
        "        Args:\n",
        "            lr: learning rate\n",
        "            epochs: number of iterations over the dataset\n",
        "        \"\"\"\n",
        "        self.lr = lr\n",
        "        self.epochs = epochs\n",
        "        ######################\n",
        "        #   YOUR CODE HERE   #\n",
        "        ######################\n",
        "        # You may add additional fields\n",
        "        self.weights = None\n",
        "        self.bias = 0\n",
        "        \n",
        "    def train(self, X, y):\n",
        "        \"\"\"\n",
        "        Initialize weights. Iterate through the dataset and update weights once every epoch.\n",
        "\n",
        "        Args:\n",
        "            X: features\n",
        "            y: target\n",
        "        \"\"\"\n",
        "        ######################\n",
        "        #   YOUR CODE HERE   #\n",
        "        ######################\n",
        "        n_samples,n_features=X.shape\n",
        "        if(n_features == 1):\n",
        "            self.weights=np.zeros(1)\n",
        "        else:\n",
        "            self.weights=np.zeros((n_features,1))\n",
        "        self.bias= 0\n",
        "        for i in range(self.epochs):\n",
        "            self.update_weights(X,y)\n",
        "\n",
        "\n",
        "    def update_weights(self, X, y):\n",
        "        \"\"\"\n",
        "        Helper function to calculate the gradients and update weights using batch gradient descent.\n",
        "\n",
        "        Args:\n",
        "            X: features\n",
        "            y: target\n",
        "        \"\"\"\n",
        "        ######################\n",
        "        #   YOUR CODE HERE   #\n",
        "        ######################\n",
        "        n_samples = X.shape[0]\n",
        "        y_pred = np.dot(X,self.weights) + self.bias\n",
        "        dw=(1/n_samples)*(np.dot(X.T,y_pred-y))\n",
        "        db=(1/n_samples)*(np.sum(y_pred-y))\n",
        "\n",
        "        self.weights=self.weights-dw*self.lr\n",
        "        self.bias=self.bias-self.lr*db\n",
        "        \n",
        "\n",
        "    def predict(self, X):\n",
        "        \"\"\"\n",
        "        Predict values using the weights.\n",
        "\n",
        "        Args:\n",
        "            X: features\n",
        "\n",
        "        Returns:\n",
        "            The predicted value.\n",
        "        \"\"\"\n",
        "        ######################\n",
        "        #   YOUR CODE HERE   #\n",
        "        ######################\n",
        "        if self.weights is None or self.bias is None:\n",
        "            raise ValueError(\"Model is not trained yet. Please call `train` method before `predict`.\")\n",
        "        return np.dot(X,self.weights)+self.bias\n"
      ]
    },
    {
      "cell_type": "markdown",
      "metadata": {
        "id": "x14dIa1r4RG7"
      },
      "source": [
        "### Build the model and train on the dataset."
      ]
    },
    {
      "cell_type": "code",
      "execution_count": 339,
      "metadata": {
        "id": "iDbdaKYi4RG8"
      },
      "outputs": [],
      "source": [
        "model = LinearRegression(0.01, 100000)\n",
        "model.train(X_train, y_train)"
      ]
    },
    {
      "cell_type": "markdown",
      "metadata": {
        "id": "y_XhoaNJ4RG8"
      },
      "source": [
        "### (5 points) Implement the evaluation metric `mean squared error`.\n",
        "We use the [mean squared error (MSE)](https://en.wikipedia.org/wiki/Mean_squared_error) as the metric to evaluate our model."
      ]
    },
    {
      "cell_type": "code",
      "execution_count": 340,
      "metadata": {
        "id": "Hy2HKm6H4RG8"
      },
      "outputs": [],
      "source": [
        "def mean_squared_error(y_pred, y_actual):\n",
        "    \"\"\"\n",
        "    Calculates the mean squared error between two vectors.\n",
        "\n",
        "    Args:\n",
        "        y_pred: predicted values\n",
        "        y_actual: actual/true values\n",
        "\n",
        "    Returns:\n",
        "        The mean squared error.\n",
        "    \"\"\"\n",
        "    ######################\n",
        "    #   YOUR CODE HERE   #\n",
        "    ######################\n",
        "    return np.sum((y_pred-y_actual)**2)/len(y_pred)\n",
        "\n"
      ]
    },
    {
      "cell_type": "markdown",
      "metadata": {
        "id": "bEL5aZl34RG8"
      },
      "source": [
        "### Make predictions using the model and evaluate it."
      ]
    },
    {
      "cell_type": "code",
      "execution_count": 341,
      "metadata": {
        "id": "xNoF3xni4RG8"
      },
      "outputs": [
        {
          "name": "stdout",
          "output_type": "stream",
          "text": [
            "Train MSE: 0.5197\n"
          ]
        }
      ],
      "source": [
        "y_pred = model.predict(X_train)\n",
        "print(\"Train MSE: {:.4f}\".format(mean_squared_error(y_pred, y_train)))"
      ]
    },
    {
      "cell_type": "markdown",
      "metadata": {
        "id": "rHBt5m9I4RG9"
      },
      "source": [
        "### Plot the predicted and the actual values."
      ]
    },
    {
      "cell_type": "code",
      "execution_count": 342,
      "metadata": {
        "id": "IUpXshvT4RG9"
      },
      "outputs": [
        {
          "data": {
            "image/png": "[encoded data removed]",
            "text/plain": [
              "<Figure size 640x480 with 1 Axes>"
            ]
          },
          "metadata": {},
          "output_type": "display_data"
        }
      ],
      "source": [
        "import matplotlib.pyplot as plt\n",
        "\n",
        "plt.scatter(X_train, y_train, marker='X', label='actual')\n",
        "plt.scatter(X_train, y_pred, marker='o', label='predicted')\n",
        "plt.legend()\n",
        "plt.show()"
      ]
    },
    {
      "cell_type": "markdown",
      "metadata": {
        "id": "UidA5Xfg4RG9"
      },
      "source": [
        "### Multiple linear regression for sales prediction\n",
        "\n",
        "Next we use our linear regression model to learn the relationship between sales and advertising budget for a product. The `advertise.csv` dataset contains statistics about the sales of a product in 200 different markets, together with advertising budgets in each of these markets for different media channels: TV, radio, and newspaper. The sales are in thousands of units and the budget is in thousands of dollars.  \n",
        "\n",
        "We will train a linear regression model to predict the sales of the product given the TV, radio, and newspaper ad budgets."
      ]
    },
    {
      "cell_type": "code",
      "execution_count": 343,
      "metadata": {
        "id": "3EO2yBKf4RG9"
      },
      "outputs": [],
      "source": [
        "df = pd.read_csv('advertise.csv')"
      ]
    },
    {
      "cell_type": "code",
      "execution_count": 344,
      "metadata": {
        "id": "eDQOiAik4RG-"
      },
      "outputs": [
        {
          "data": {
            "text/html": [
              "<div>\n",
              "<style scoped>\n",
              "    .dataframe tbody tr th:only-of-type {\n",
              "        vertical-align: middle;\n",
              "    }\n",
              "\n",
              "    .dataframe tbody tr th {\n",
              "        vertical-align: top;\n",
              "    }\n",
              "\n",
              "    .dataframe thead th {\n",
              "        text-align: right;\n",
              "    }\n",
              "</style>\n",
              "<table border=\"1\" class=\"dataframe\">\n",
              "  <thead>\n",
              "    <tr style=\"text-align: right;\">\n",
              "      <th></th>\n",
              "      <th>TV</th>\n",
              "      <th>Radio</th>\n",
              "      <th>Newspaper</th>\n",
              "      <th>Sales</th>\n",
              "    </tr>\n",
              "  </thead>\n",
              "  <tbody>\n",
              "    <tr>\n",
              "      <th>0</th>\n",
              "      <td>230.1</td>\n",
              "      <td>37.8</td>\n",
              "      <td>69.2</td>\n",
              "      <td>22.1</td>\n",
              "    </tr>\n",
              "    <tr>\n",
              "      <th>1</th>\n",
              "      <td>44.5</td>\n",
              "      <td>39.3</td>\n",
              "      <td>45.1</td>\n",
              "      <td>10.4</td>\n",
              "    </tr>\n",
              "    <tr>\n",
              "      <th>2</th>\n",
              "      <td>17.2</td>\n",
              "      <td>45.9</td>\n",
              "      <td>69.3</td>\n",
              "      <td>12.0</td>\n",
              "    </tr>\n",
              "    <tr>\n",
              "      <th>3</th>\n",
              "      <td>151.5</td>\n",
              "      <td>41.3</td>\n",
              "      <td>58.5</td>\n",
              "      <td>16.5</td>\n",
              "    </tr>\n",
              "    <tr>\n",
              "      <th>4</th>\n",
              "      <td>180.8</td>\n",
              "      <td>10.8</td>\n",
              "      <td>58.4</td>\n",
              "      <td>17.9</td>\n",
              "    </tr>\n",
              "  </tbody>\n",
              "</table>\n",
              "</div>"
            ],
            "text/plain": [
              "      TV  Radio  Newspaper  Sales\n",
              "0  230.1   37.8       69.2   22.1\n",
              "1   44.5   39.3       45.1   10.4\n",
              "2   17.2   45.9       69.3   12.0\n",
              "3  151.5   41.3       58.5   16.5\n",
              "4  180.8   10.8       58.4   17.9"
            ]
          },
          "execution_count": 344,
          "metadata": {},
          "output_type": "execute_result"
        }
      ],
      "source": [
        "df.head()"
      ]
    },
    {
      "cell_type": "code",
      "execution_count": 345,
      "metadata": {
        "id": "hen7UJXv4RG-"
      },
      "outputs": [],
      "source": [
        "X = np.array(df[['TV', 'Radio', 'Newspaper']])\n",
        "y = np.array(df[['Sales']])"
      ]
    },
    {
      "cell_type": "markdown",
      "metadata": {
        "id": "eFNKfYAu4RG-"
      },
      "source": [
        "### (5 points) Normalize the features in your dataset.\n",
        "\n",
        "Gradient descent-based models can be sensitive to different scales of the features/independent variables. Hence, it is important to normalize them. You may use the functions, `dataset_minmax`, `normalize_dataset`, and `unnormalize_dataset`, provided in the code block below to perform [min-max normalization](https://en.wikipedia.org/wiki/Feature_scaling) on the features."
      ]
    },
    {
      "cell_type": "code",
      "execution_count": 346,
      "metadata": {
        "id": "qAnBQd9a4RG-"
      },
      "outputs": [],
      "source": [
        "def dataset_minmax(dataset):\n",
        "    \"\"\"\n",
        "    Finds the min and max values for each column.\n",
        "    \"\"\"\n",
        "    minmax = list()\n",
        "    for i in range(len(dataset[0])):\n",
        "        col_values = [row[i] for row in dataset]\n",
        "        value_min = min(col_values)\n",
        "        value_max = max(col_values)\n",
        "        minmax.append([value_min, value_max])\n",
        "    return minmax\n",
        "\n",
        "def normalize_dataset(dataset, minmax):\n",
        "    \"\"\"\n",
        "    Rescales dataset columns to the range 0-1.\n",
        "    \"\"\"\n",
        "    for row in dataset:\n",
        "        for i in range(len(row)):\n",
        "            row[i] = (row[i] - minmax[i][0]) / (minmax[i][1] - minmax[i][0])\n",
        "    return dataset\n",
        "\n",
        "def unnormalize_dataset(dataset, minmax):\n",
        "    \"\"\"\n",
        "    Rescales dataset columns to their original values.\n",
        "    \"\"\"\n",
        "    for row in dataset:\n",
        "        for i in range(len(row)):\n",
        "            row[i] = minmax[i][0] + (minmax[i][1] - minmax[i][0]) * row[i]\n",
        "    return dataset"
      ]
    },
    {
      "cell_type": "code",
      "execution_count": 347,
      "metadata": {
        "id": "Ru0vSf-n4RG_"
      },
      "outputs": [],
      "source": [
        "######################\n",
        "#   YOUR CODE HERE   #\n",
        "######################\n",
        "minmax1=dataset_minmax(X)\n",
        "minmax2=dataset_minmax(y)\n",
        "X=normalize_dataset(X,minmax1)\n",
        "y=normalize_dataset(y,minmax2)"
      ]
    },
    {
      "cell_type": "markdown",
      "metadata": {
        "id": "Z58Lnr5j4RG_"
      },
      "source": [
        "### Split the data into train and test set."
      ]
    },
    {
      "cell_type": "code",
      "execution_count": 348,
      "metadata": {
        "id": "5iK_25IL4RG_"
      },
      "outputs": [],
      "source": [
        "def split_indices(n, test_frac, seed):\n",
        "    \"\"\"\n",
        "    Provides indices for creating training and test set.\n",
        "    \"\"\"\n",
        "    # Determine the size of the test set\n",
        "    n_test = int(test_frac * n)\n",
        "    np.random.seed(seed)\n",
        "    # Create random permutation between 0 to n-1\n",
        "    idxs = np.random.permutation(n)\n",
        "    # Pick first n_test indices for test set\n",
        "    return idxs[n_test:], idxs[:n_test]"
      ]
    },
    {
      "cell_type": "code",
      "execution_count": 349,
      "metadata": {
        "id": "649CelxA4RHA"
      },
      "outputs": [
        {
          "name": "stdout",
          "output_type": "stream",
          "text": [
            "#samples in training set: 160\n",
            "#samples in test set: 40\n"
          ]
        }
      ],
      "source": [
        "test_frac = 0.2 ## Set the fraction for the test set\n",
        "rand_seed = 42 ## Set the random seed\n",
        "\n",
        "train_indices, test_indices = split_indices(df.shape[0], test_frac, rand_seed)\n",
        "print(\"#samples in training set: {}\".format(len(train_indices)))\n",
        "print(\"#samples in test set: {}\".format(len(test_indices)))"
      ]
    },
    {
      "cell_type": "code",
      "execution_count": 350,
      "metadata": {
        "id": "xEGZwH-T4RHA"
      },
      "outputs": [
        {
          "name": "stdout",
          "output_type": "stream",
          "text": [
            "[[0.38992222 0.15524194 0.2005277 ]\n",
            " [0.59621238 0.1875     0.05364996]\n",
            " [0.14338857 0.53830645 0.3060686 ]\n",
            " [0.20831924 0.25403226 0.15831135]\n",
            " [0.75515725 0.0483871  0.13456464]\n",
            " [0.12681772 0.07459677 0.11873351]\n",
            " [0.23638823 0.32258065 0.35620053]\n",
            " [0.49577274 0.48185484 0.16534741]\n",
            " [0.35136963 0.11491935 0.29991205]\n",
            " [0.25566452 0.55443548 0.13808267]\n",
            " [0.26208996 0.94354839 0.30079156]\n",
            " [0.56712885 0.14314516 0.10993843]\n",
            " [0.02705445 0.9858871  0.65699208]\n",
            " [0.02401082 0.78427419 0.44239226]\n",
            " [0.25600271 0.01612903 0.12752858]\n",
            " [0.43523842 0.11491935 0.27264732]\n",
            " [0.24585729 0.34274194 0.11081794]\n",
            " [0.9773419  0.85282258 0.44766931]\n",
            " [0.06391613 0.40524194 0.14687775]\n",
            " [0.66587758 0.07056452 0.04925242]\n",
            " [0.95908015 0.21370968 0.05364996]\n",
            " [0.62292864 0.4233871  0.19085312]\n",
            " [0.37943862 0.35080645 0.33685136]\n",
            " [0.07811972 0.70766129 0.5769569 ]\n",
            " [0.98072371 0.08266129 0.07211961]\n",
            " [0.06323977 0.32258065 0.19349164]\n",
            " [0.99053094 0.55846774 0.01319261]\n",
            " [0.06087251 0.24395161 0.20316623]\n",
            " [0.45180927 0.09879032 0.07915567]\n",
            " [0.08420697 0.78629032 0.07915567]\n",
            " [0.33716605 0.19354839 0.02902375]\n",
            " [0.26885357 0.         0.07827617]\n",
            " [0.63476496 0.36491935 0.22251539]\n",
            " [0.59621238 0.6733871  0.33773087]\n",
            " [0.42272574 0.74395161 0.6939314 ]\n",
            " [0.70645925 0.41532258 0.09146878]\n",
            " [0.4808928  0.59072581 0.10817942]\n",
            " [0.62292864 0.88508065 0.0123131 ]\n",
            " [0.74974636 0.08669355 0.4353562 ]\n",
            " [0.81501522 0.76612903 0.20140721]\n",
            " [0.0557998  0.92540323 0.60686016]\n",
            " [0.40514034 0.57459677 0.12225154]\n",
            " [0.30098072 0.19959677 0.31134565]\n",
            " [0.64389584 0.57862903 0.15743184]\n",
            " [0.25295908 0.21774194 0.05013193]\n",
            " [0.65099763 0.37096774 0.57519789]\n",
            " [0.2874535  0.72177419 0.43095866]\n",
            " [0.90023673 0.88306452 0.04133685]\n",
            " [0.13121407 0.82862903 0.04837291]\n",
            " [0.88129861 0.8608871  0.47845207]\n",
            " [0.04227257 0.32056452 0.43359719]\n",
            " [0.65268854 0.71370968 0.66226913]\n",
            " [1.         0.73185484 0.88478452]\n",
            " [0.89584038 0.40322581 0.        ]\n",
            " [0.72370646 0.48387097 0.03254178]\n",
            " [0.50388908 0.71774194 0.05013193]\n",
            " [0.44301657 0.37096774 0.30167106]\n",
            " [0.19208657 0.66129032 0.20404573]\n",
            " [0.80960433 0.33669355 0.19876869]\n",
            " [0.47548191 0.54032258 0.40369393]\n",
            " [0.60906324 0.21774194 0.51099384]\n",
            " [0.32634427 0.03024194 0.26121372]\n",
            " [0.74332093 0.66935484 0.33069481]\n",
            " [0.4721001  0.03830645 0.07651715]\n",
            " [0.86134596 0.54233871 0.04573439]\n",
            " [0.32296246 0.2983871  0.33948989]\n",
            " [0.2211701  0.11693548 0.21020229]\n",
            " [0.80689888 0.3125     0.23746702]\n",
            " [0.59181603 0.31048387 0.01846966]\n",
            " [0.80960433 0.14717742 0.07387863]\n",
            " [0.05816706 0.75806452 0.18733509]\n",
            " [0.77578627 0.76209677 0.60598065]\n",
            " [0.95671288 0.84677419 0.57959543]\n",
            " [0.57693608 0.80040323 0.3289358 ]\n",
            " [0.67095029 0.61693548 0.33773087]\n",
            " [0.41393304 0.69758065 0.1064204 ]\n",
            " [0.44098749 0.86290323 0.25153914]\n",
            " [0.08251606 0.51814516 0.37818821]\n",
            " [0.550558   0.74193548 0.06244503]\n",
            " [0.83902604 0.54637097 0.19876869]\n",
            " [0.68244843 0.44959677 0.27528584]\n",
            " [0.04193439 0.00806452 0.22251539]\n",
            " [0.01149814 0.23387097 0.0474934 ]\n",
            " [0.31518431 0.87701613 0.44151275]\n",
            " [0.8867095  0.07056452 0.16886544]\n",
            " [0.76969902 0.34072581 0.22779244]\n",
            " [0.85593507 0.42943548 0.26121372]\n",
            " [0.82008793 0.98790323 0.38698329]\n",
            " [0.80858979 0.08266129 0.32189974]\n",
            " [0.76868448 0.76008065 0.27880387]\n",
            " [0.72607372 0.47580645 0.50395778]\n",
            " [0.80892797 0.83669355 0.16007036]\n",
            " [0.36083869 0.28225806 0.09322779]\n",
            " [0.63273588 0.42540323 0.08091469]\n",
            " [0.69732837 0.16935484 0.22955145]\n",
            " [0.14305039 0.52217742 0.17766051]\n",
            " [0.50997633 0.83266129 0.51187335]\n",
            " [0.46398377 0.93548387 0.51627089]\n",
            " [0.61515049 0.93145161 0.51363237]\n",
            " [0.74095367 0.67540323 0.39401935]\n",
            " [0.52722354 0.05241935 0.0703606 ]\n",
            " [0.93337842 0.04637097 0.20580475]\n",
            " [0.69090294 0.90927419 0.16974494]\n",
            " [0.22387555 0.2358871  0.32102023]\n",
            " [0.25600271 0.53830645 0.19349164]\n",
            " [0.32127156 0.02822581 0.06244503]\n",
            " [0.4041258  0.39516129 0.09938434]\n",
            " [0.7612445  0.16532258 0.4942832 ]\n",
            " [0.09435238 0.03024194 0.28759894]\n",
            " [0.22894826 0.89717742 0.31046614]\n",
            " [0.83767332 0.60887097 0.1759015 ]\n",
            " [0.73655732 0.10887097 0.23834653]\n",
            " [0.36895502 0.96370968 0.44942832]\n",
            " [0.02671627 0.04233871 0.00615655]\n",
            " [0.32735881 0.15322581 0.06068602]\n",
            " [0.71017924 0.59475806 0.07915567]\n",
            " [0.5539398  0.42137097 0.41424802]\n",
            " [0.89448766 0.05846774 0.37554969]\n",
            " [0.94927291 0.7983871  0.48812665]\n",
            " [0.08826513 0.66532258 0.16710642]\n",
            " [0.93405479 0.9858871  0.3649956 ]\n",
            " [0.12242137 0.77822581 0.57431838]\n",
            " [0.69699019 0.10483871 0.16798593]\n",
            " [0.97024011 0.86693548 0.62884785]\n",
            " [0.3449442  0.59677419 0.07124011]\n",
            " [0.88603314 0.58064516 0.13720317]\n",
            " [0.30334799 0.00604839 0.20140721]\n",
            " [0.67331755 0.0625     0.30167106]\n",
            " [0.31619885 0.09879032 0.06860158]\n",
            " [0.71051742 1.         0.3289358 ]\n",
            " [0.76597903 0.31854839 0.43623571]\n",
            " [0.2962462  0.5141129  0.64291996]\n",
            " [0.80047345 0.10282258 0.20404573]\n",
            " [0.4582347  0.38709677 0.14335972]\n",
            " [0.58099425 0.36491935 0.26737027]\n",
            " [0.0557998  0.08266129 0.27528584]\n",
            " [0.19918837 0.24193548 0.3764292 ]\n",
            " [0.25025364 0.99596774 0.39929639]\n",
            " [0.50422726 0.02620968 0.21108179]\n",
            " [0.56171796 0.84677419 0.02902375]\n",
            " [0.1481231  0.79233871 0.39401935]\n",
            " [0.72945553 0.84072581 0.34564644]\n",
            " [0.14879946 0.52016129 0.17854002]\n",
            " [0.         0.7983871  0.07387863]\n",
            " [0.40683125 0.16935484 0.42568162]\n",
            " [0.63307406 0.34677419 0.15479332]\n",
            " [0.45485289 0.84072581 0.40105541]\n",
            " [0.46838011 0.28830645 0.22251539]\n",
            " [0.37199865 0.81854839 0.5532102 ]\n",
            " [0.71931011 0.49596774 0.11257696]\n",
            " [0.06121069 0.4375     0.44063325]\n",
            " [0.78254988 0.1733871  0.07387863]\n",
            " [0.73621914 0.55846774 0.46701847]\n",
            " [0.96482922 0.28024194 0.02990325]\n",
            " [0.36895502 0.28830645 0.27616535]\n",
            " [0.08217788 0.22177419 0.2585752 ]\n",
            " [0.68785932 0.66330645 0.40193492]\n",
            " [0.73385188 0.67540323 0.51627089]\n",
            " [0.55765979 0.2016129  0.15215479]\n",
            " [0.94521474 0.20362903 0.18557608]]\n",
            "[[0.37007874]\n",
            " [0.51968504]\n",
            " [0.33464567]\n",
            " [0.31889764]\n",
            " [0.59055118]\n",
            " [0.23622047]\n",
            " [0.3503937 ]\n",
            " [0.51181102]\n",
            " [0.34645669]\n",
            " [0.40944882]\n",
            " [0.51181102]\n",
            " [0.59448819]\n",
            " [0.22047244]\n",
            " [0.19685039]\n",
            " [0.30708661]\n",
            " [0.37007874]\n",
            " [0.36614173]\n",
            " [0.93700787]\n",
            " [0.23622047]\n",
            " [0.59448819]\n",
            " [0.72440945]\n",
            " [0.74409449]\n",
            " [0.40551181]\n",
            " [0.2992126 ]\n",
            " [0.63779528]\n",
            " [0.19685039]\n",
            " [0.7519685 ]\n",
            " [0.2007874 ]\n",
            " [0.48818898]\n",
            " [0.31102362]\n",
            " [0.35826772]\n",
            " [0.40551181]\n",
            " [0.72047244]\n",
            " [0.61023622]\n",
            " [0.56299213]\n",
            " [0.75984252]\n",
            " [0.52755906]\n",
            " [0.7519685 ]\n",
            " [0.59448819]\n",
            " [0.79527559]\n",
            " [0.40944882]\n",
            " [0.49606299]\n",
            " [0.35433071]\n",
            " [0.61811024]\n",
            " [0.40551181]\n",
            " [0.73228346]\n",
            " [0.46062992]\n",
            " [0.93700787]\n",
            " [0.36220472]\n",
            " [0.88976378]\n",
            " [0.15748031]\n",
            " [0.69291339]\n",
            " [0.87401575]\n",
            " [0.62204724]\n",
            " [0.62204724]\n",
            " [0.61811024]\n",
            " [0.44488189]\n",
            " [0.4015748 ]\n",
            " [0.75984252]\n",
            " [0.54724409]\n",
            " [0.64173228]\n",
            " [0.45669291]\n",
            " [0.72834646]\n",
            " [0.34251969]\n",
            " [0.71653543]\n",
            " [0.42125984]\n",
            " [0.43307087]\n",
            " [0.7519685 ]\n",
            " [0.61023622]\n",
            " [0.65354331]\n",
            " [0.2519685 ]\n",
            " [0.80708661]\n",
            " [0.94094488]\n",
            " [0.56692913]\n",
            " [0.65748031]\n",
            " [0.53543307]\n",
            " [0.56692913]\n",
            " [0.27165354]\n",
            " [0.64566929]\n",
            " [0.68110236]\n",
            " [0.59055118]\n",
            " [0.14566929]\n",
            " [0.06299213]\n",
            " [0.53937008]\n",
            " [0.60629921]\n",
            " [0.74409449]\n",
            " [0.62992126]\n",
            " [0.93700787]\n",
            " [0.61811024]\n",
            " [0.78346457]\n",
            " [0.61023622]\n",
            " [0.8503937 ]\n",
            " [0.38976378]\n",
            " [0.7480315 ]\n",
            " [0.64173228]\n",
            " [0.31496063]\n",
            " [0.58661417]\n",
            " [0.52755906]\n",
            " [0.77165354]\n",
            " [0.70866142]\n",
            " [0.54724409]\n",
            " [0.5984252 ]\n",
            " [0.82677165]\n",
            " [0.31889764]\n",
            " [0.4015748 ]\n",
            " [0.40551181]\n",
            " [0.45669291]\n",
            " [0.66141732]\n",
            " [0.22440945]\n",
            " [0.47244094]\n",
            " [0.73228346]\n",
            " [0.61417323]\n",
            " [0.59448819]\n",
            " [0.12598425]\n",
            " [0.47637795]\n",
            " [0.66141732]\n",
            " [0.62598425]\n",
            " [0.63385827]\n",
            " [0.8976378 ]\n",
            " [0.28346457]\n",
            " [1.        ]\n",
            " [0.36220472]\n",
            " [0.61417323]\n",
            " [0.96850394]\n",
            " [0.48818898]\n",
            " [0.73228346]\n",
            " [0.40944882]\n",
            " [0.58267717]\n",
            " [0.48818898]\n",
            " [0.87401575]\n",
            " [0.71653543]\n",
            " [0.44488189]\n",
            " [0.62598425]\n",
            " [0.45669291]\n",
            " [0.58267717]\n",
            " [0.16929134]\n",
            " [0.31889764]\n",
            " [0.51574803]\n",
            " [0.33464567]\n",
            " [0.70866142]\n",
            " [0.34645669]\n",
            " [0.82677165]\n",
            " [0.33464567]\n",
            " [0.        ]\n",
            " [0.39370079]\n",
            " [0.71259843]\n",
            " [0.61417323]\n",
            " [0.41732283]\n",
            " [0.56692913]\n",
            " [0.60629921]\n",
            " [0.21259843]\n",
            " [0.66141732]\n",
            " [0.64566929]\n",
            " [0.75984252]\n",
            " [0.42519685]\n",
            " [0.22047244]\n",
            " [0.68503937]\n",
            " [0.7007874 ]\n",
            " [0.62992126]\n",
            " [0.71653543]]\n"
          ]
        }
      ],
      "source": [
        "X_train = X[train_indices]\n",
        "y_train = y[train_indices]\n",
        "X_test = X[test_indices]\n",
        "y_test = y[test_indices]\n",
        "# print(X_train)\n",
        "# print(y_train)\n"
      ]
    },
    {
      "cell_type": "markdown",
      "metadata": {
        "id": "YJEBnkzv4RHA"
      },
      "source": [
        "### Build the model and train on the dataset."
      ]
    },
    {
      "cell_type": "code",
      "execution_count": 351,
      "metadata": {
        "id": "oLAFhbCc4RHA"
      },
      "outputs": [],
      "source": [
        "model = LinearRegression(0.01, 100000)\n",
        "model.train(X_train, y_train)"
      ]
    },
    {
      "cell_type": "markdown",
      "metadata": {
        "id": "cqzCg_Vw4RHB"
      },
      "source": [
        "### (10 points) Evaluation on training and test set.\n",
        "If you have implemented `LinearRegression` correctly, the **test MSE** should be < 3."
      ]
    },
    {
      "cell_type": "code",
      "execution_count": 352,
      "metadata": {
        "id": "0rikRruQ4RHB"
      },
      "outputs": [
        {
          "name": "stdout",
          "output_type": "stream",
          "text": [
            "Training MSE: 0.0041\n",
            "Test MSE: 0.0045\n"
          ]
        }
      ],
      "source": [
        "print(\"Training MSE: {:.4f}\".format(mean_squared_error(model.predict(X_train), y_train)))\n",
        "print(\"Test MSE: {:.4f}\".format(mean_squared_error(model.predict(X_test), y_test)))"
      ]
    },
    {
      "cell_type": "markdown",
      "metadata": {
        "id": "eL2RPPja8u2r"
      },
      "source": [
        "# Using Closed Form Solution(75)\n"
      ]
    },
    {
      "cell_type": "markdown",
      "metadata": {
        "id": "0JDKmqqk9-kp"
      },
      "source": [
        "* For both the above 2 models you need to try out the closed form solutions\n",
        "* The more efforts you put in, the more marks you get.\n",
        "* It is open ended"
      ]
    },
    {
      "cell_type": "code",
      "execution_count": 353,
      "metadata": {
        "id": "l1r74Kkg-TFh"
      },
      "outputs": [],
      "source": [
        "###########################\n",
        "### Write your code here###\n",
        "###########################\n",
        "class LinearRegressionClosedForm:\n",
        "    def __init__(self):\n",
        "        \"\"\"\n",
        "        Fits a linear regression model using the closed-form solution (normal equation).\n",
        "        \"\"\"\n",
        "        self.weights = None\n",
        "        self.bias = 0\n",
        "\n",
        "    def train(self, X, y):\n",
        "        \"\"\"\n",
        "        Compute the weights using the closed-form solution.\n",
        "\n",
        "        Args:\n",
        "            X: features (numpy array of shape [n_samples, n_features])\n",
        "            y: target (numpy array of shape [n_samples, 1])\n",
        "        \"\"\"\n",
        "        # Add a column of ones to X to include the bias term\n",
        "        X_b = np.hstack([np.ones((X.shape[0], 1)), X])\n",
        "        \n",
        "        # Closed-form solution (normal equation)\n",
        "        X_b_T = X_b.T\n",
        "        self.weights = np.linalg.inv(X_b_T.dot(X_b)).dot(X_b_T).dot(y)\n",
        "\n",
        "    def predict(self, X):\n",
        "        \"\"\"\n",
        "        Predict values using the weights.\n",
        "\n",
        "        Args:\n",
        "            X: features (numpy array of shape [n_samples, n_features])\n",
        "\n",
        "        Returns:\n",
        "            The predicted values (numpy array of shape [n_samples, 1]).\n",
        "        \"\"\"\n",
        "        # Add a column of ones to X to include the bias term\n",
        "        X_b = np.hstack([np.ones((X.shape[0], 1)), X])\n",
        "        return np.dot(X_b,self.weights)"
      ]
    },
    {
      "cell_type": "code",
      "execution_count": 354,
      "metadata": {},
      "outputs": [],
      "source": [
        "df = pd.read_csv('heights.csv')"
      ]
    },
    {
      "cell_type": "code",
      "execution_count": 355,
      "metadata": {},
      "outputs": [],
      "source": [
        "X_train1 = np.array(df['Height'])\n",
        "y_train1 = np.array(df['Weight'])\n",
        "X_train1 = np.expand_dims(X_train1, -1)"
      ]
    },
    {
      "cell_type": "code",
      "execution_count": 356,
      "metadata": {},
      "outputs": [],
      "source": [
        "model = LinearRegressionClosedForm()\n",
        "model.train(X_train1, y_train1)"
      ]
    },
    {
      "cell_type": "code",
      "execution_count": 357,
      "metadata": {},
      "outputs": [
        {
          "name": "stdout",
          "output_type": "stream",
          "text": [
            "Train MSE: 0.4994\n"
          ]
        }
      ],
      "source": [
        "y_pred1 = model.predict(X_train1)\n",
        "print(\"Train MSE: {:.4f}\".format(mean_squared_error(y_pred1, y_train1)))"
      ]
    },
    {
      "cell_type": "code",
      "execution_count": 358,
      "metadata": {},
      "outputs": [
        {
          "name": "stdout",
          "output_type": "stream",
          "text": [
            "[[0.38992222 0.15524194 0.2005277 ]\n",
            " [0.59621238 0.1875     0.05364996]\n",
            " [0.14338857 0.53830645 0.3060686 ]\n",
            " [0.20831924 0.25403226 0.15831135]\n",
            " [0.75515725 0.0483871  0.13456464]\n",
            " [0.12681772 0.07459677 0.11873351]\n",
            " [0.23638823 0.32258065 0.35620053]\n",
            " [0.49577274 0.48185484 0.16534741]\n",
            " [0.35136963 0.11491935 0.29991205]\n",
            " [0.25566452 0.55443548 0.13808267]\n",
            " [0.26208996 0.94354839 0.30079156]\n",
            " [0.56712885 0.14314516 0.10993843]\n",
            " [0.02705445 0.9858871  0.65699208]\n",
            " [0.02401082 0.78427419 0.44239226]\n",
            " [0.25600271 0.01612903 0.12752858]\n",
            " [0.43523842 0.11491935 0.27264732]\n",
            " [0.24585729 0.34274194 0.11081794]\n",
            " [0.9773419  0.85282258 0.44766931]\n",
            " [0.06391613 0.40524194 0.14687775]\n",
            " [0.66587758 0.07056452 0.04925242]\n",
            " [0.95908015 0.21370968 0.05364996]\n",
            " [0.62292864 0.4233871  0.19085312]\n",
            " [0.37943862 0.35080645 0.33685136]\n",
            " [0.07811972 0.70766129 0.5769569 ]\n",
            " [0.98072371 0.08266129 0.07211961]\n",
            " [0.06323977 0.32258065 0.19349164]\n",
            " [0.99053094 0.55846774 0.01319261]\n",
            " [0.06087251 0.24395161 0.20316623]\n",
            " [0.45180927 0.09879032 0.07915567]\n",
            " [0.08420697 0.78629032 0.07915567]\n",
            " [0.33716605 0.19354839 0.02902375]\n",
            " [0.26885357 0.         0.07827617]\n",
            " [0.63476496 0.36491935 0.22251539]\n",
            " [0.59621238 0.6733871  0.33773087]\n",
            " [0.42272574 0.74395161 0.6939314 ]\n",
            " [0.70645925 0.41532258 0.09146878]\n",
            " [0.4808928  0.59072581 0.10817942]\n",
            " [0.62292864 0.88508065 0.0123131 ]\n",
            " [0.74974636 0.08669355 0.4353562 ]\n",
            " [0.81501522 0.76612903 0.20140721]\n",
            " [0.0557998  0.92540323 0.60686016]\n",
            " [0.40514034 0.57459677 0.12225154]\n",
            " [0.30098072 0.19959677 0.31134565]\n",
            " [0.64389584 0.57862903 0.15743184]\n",
            " [0.25295908 0.21774194 0.05013193]\n",
            " [0.65099763 0.37096774 0.57519789]\n",
            " [0.2874535  0.72177419 0.43095866]\n",
            " [0.90023673 0.88306452 0.04133685]\n",
            " [0.13121407 0.82862903 0.04837291]\n",
            " [0.88129861 0.8608871  0.47845207]\n",
            " [0.04227257 0.32056452 0.43359719]\n",
            " [0.65268854 0.71370968 0.66226913]\n",
            " [1.         0.73185484 0.88478452]\n",
            " [0.89584038 0.40322581 0.        ]\n",
            " [0.72370646 0.48387097 0.03254178]\n",
            " [0.50388908 0.71774194 0.05013193]\n",
            " [0.44301657 0.37096774 0.30167106]\n",
            " [0.19208657 0.66129032 0.20404573]\n",
            " [0.80960433 0.33669355 0.19876869]\n",
            " [0.47548191 0.54032258 0.40369393]\n",
            " [0.60906324 0.21774194 0.51099384]\n",
            " [0.32634427 0.03024194 0.26121372]\n",
            " [0.74332093 0.66935484 0.33069481]\n",
            " [0.4721001  0.03830645 0.07651715]\n",
            " [0.86134596 0.54233871 0.04573439]\n",
            " [0.32296246 0.2983871  0.33948989]\n",
            " [0.2211701  0.11693548 0.21020229]\n",
            " [0.80689888 0.3125     0.23746702]\n",
            " [0.59181603 0.31048387 0.01846966]\n",
            " [0.80960433 0.14717742 0.07387863]\n",
            " [0.05816706 0.75806452 0.18733509]\n",
            " [0.77578627 0.76209677 0.60598065]\n",
            " [0.95671288 0.84677419 0.57959543]\n",
            " [0.57693608 0.80040323 0.3289358 ]\n",
            " [0.67095029 0.61693548 0.33773087]\n",
            " [0.41393304 0.69758065 0.1064204 ]\n",
            " [0.44098749 0.86290323 0.25153914]\n",
            " [0.08251606 0.51814516 0.37818821]\n",
            " [0.550558   0.74193548 0.06244503]\n",
            " [0.83902604 0.54637097 0.19876869]\n",
            " [0.68244843 0.44959677 0.27528584]\n",
            " [0.04193439 0.00806452 0.22251539]\n",
            " [0.01149814 0.23387097 0.0474934 ]\n",
            " [0.31518431 0.87701613 0.44151275]\n",
            " [0.8867095  0.07056452 0.16886544]\n",
            " [0.76969902 0.34072581 0.22779244]\n",
            " [0.85593507 0.42943548 0.26121372]\n",
            " [0.82008793 0.98790323 0.38698329]\n",
            " [0.80858979 0.08266129 0.32189974]\n",
            " [0.76868448 0.76008065 0.27880387]\n",
            " [0.72607372 0.47580645 0.50395778]\n",
            " [0.80892797 0.83669355 0.16007036]\n",
            " [0.36083869 0.28225806 0.09322779]\n",
            " [0.63273588 0.42540323 0.08091469]\n",
            " [0.69732837 0.16935484 0.22955145]\n",
            " [0.14305039 0.52217742 0.17766051]\n",
            " [0.50997633 0.83266129 0.51187335]\n",
            " [0.46398377 0.93548387 0.51627089]\n",
            " [0.61515049 0.93145161 0.51363237]\n",
            " [0.74095367 0.67540323 0.39401935]\n",
            " [0.52722354 0.05241935 0.0703606 ]\n",
            " [0.93337842 0.04637097 0.20580475]\n",
            " [0.69090294 0.90927419 0.16974494]\n",
            " [0.22387555 0.2358871  0.32102023]\n",
            " [0.25600271 0.53830645 0.19349164]\n",
            " [0.32127156 0.02822581 0.06244503]\n",
            " [0.4041258  0.39516129 0.09938434]\n",
            " [0.7612445  0.16532258 0.4942832 ]\n",
            " [0.09435238 0.03024194 0.28759894]\n",
            " [0.22894826 0.89717742 0.31046614]\n",
            " [0.83767332 0.60887097 0.1759015 ]\n",
            " [0.73655732 0.10887097 0.23834653]\n",
            " [0.36895502 0.96370968 0.44942832]\n",
            " [0.02671627 0.04233871 0.00615655]\n",
            " [0.32735881 0.15322581 0.06068602]\n",
            " [0.71017924 0.59475806 0.07915567]\n",
            " [0.5539398  0.42137097 0.41424802]\n",
            " [0.89448766 0.05846774 0.37554969]\n",
            " [0.94927291 0.7983871  0.48812665]\n",
            " [0.08826513 0.66532258 0.16710642]\n",
            " [0.93405479 0.9858871  0.3649956 ]\n",
            " [0.12242137 0.77822581 0.57431838]\n",
            " [0.69699019 0.10483871 0.16798593]\n",
            " [0.97024011 0.86693548 0.62884785]\n",
            " [0.3449442  0.59677419 0.07124011]\n",
            " [0.88603314 0.58064516 0.13720317]\n",
            " [0.30334799 0.00604839 0.20140721]\n",
            " [0.67331755 0.0625     0.30167106]\n",
            " [0.31619885 0.09879032 0.06860158]\n",
            " [0.71051742 1.         0.3289358 ]\n",
            " [0.76597903 0.31854839 0.43623571]\n",
            " [0.2962462  0.5141129  0.64291996]\n",
            " [0.80047345 0.10282258 0.20404573]\n",
            " [0.4582347  0.38709677 0.14335972]\n",
            " [0.58099425 0.36491935 0.26737027]\n",
            " [0.0557998  0.08266129 0.27528584]\n",
            " [0.19918837 0.24193548 0.3764292 ]\n",
            " [0.25025364 0.99596774 0.39929639]\n",
            " [0.50422726 0.02620968 0.21108179]\n",
            " [0.56171796 0.84677419 0.02902375]\n",
            " [0.1481231  0.79233871 0.39401935]\n",
            " [0.72945553 0.84072581 0.34564644]\n",
            " [0.14879946 0.52016129 0.17854002]\n",
            " [0.         0.7983871  0.07387863]\n",
            " [0.40683125 0.16935484 0.42568162]\n",
            " [0.63307406 0.34677419 0.15479332]\n",
            " [0.45485289 0.84072581 0.40105541]\n",
            " [0.46838011 0.28830645 0.22251539]\n",
            " [0.37199865 0.81854839 0.5532102 ]\n",
            " [0.71931011 0.49596774 0.11257696]\n",
            " [0.06121069 0.4375     0.44063325]\n",
            " [0.78254988 0.1733871  0.07387863]\n",
            " [0.73621914 0.55846774 0.46701847]\n",
            " [0.96482922 0.28024194 0.02990325]\n",
            " [0.36895502 0.28830645 0.27616535]\n",
            " [0.08217788 0.22177419 0.2585752 ]\n",
            " [0.68785932 0.66330645 0.40193492]\n",
            " [0.73385188 0.67540323 0.51627089]\n",
            " [0.55765979 0.2016129  0.15215479]\n",
            " [0.94521474 0.20362903 0.18557608]]\n",
            "[[0.37007874]\n",
            " [0.51968504]\n",
            " [0.33464567]\n",
            " [0.31889764]\n",
            " [0.59055118]\n",
            " [0.23622047]\n",
            " [0.3503937 ]\n",
            " [0.51181102]\n",
            " [0.34645669]\n",
            " [0.40944882]\n",
            " [0.51181102]\n",
            " [0.59448819]\n",
            " [0.22047244]\n",
            " [0.19685039]\n",
            " [0.30708661]\n",
            " [0.37007874]\n",
            " [0.36614173]\n",
            " [0.93700787]\n",
            " [0.23622047]\n",
            " [0.59448819]\n",
            " [0.72440945]\n",
            " [0.74409449]\n",
            " [0.40551181]\n",
            " [0.2992126 ]\n",
            " [0.63779528]\n",
            " [0.19685039]\n",
            " [0.7519685 ]\n",
            " [0.2007874 ]\n",
            " [0.48818898]\n",
            " [0.31102362]\n",
            " [0.35826772]\n",
            " [0.40551181]\n",
            " [0.72047244]\n",
            " [0.61023622]\n",
            " [0.56299213]\n",
            " [0.75984252]\n",
            " [0.52755906]\n",
            " [0.7519685 ]\n",
            " [0.59448819]\n",
            " [0.79527559]\n",
            " [0.40944882]\n",
            " [0.49606299]\n",
            " [0.35433071]\n",
            " [0.61811024]\n",
            " [0.40551181]\n",
            " [0.73228346]\n",
            " [0.46062992]\n",
            " [0.93700787]\n",
            " [0.36220472]\n",
            " [0.88976378]\n",
            " [0.15748031]\n",
            " [0.69291339]\n",
            " [0.87401575]\n",
            " [0.62204724]\n",
            " [0.62204724]\n",
            " [0.61811024]\n",
            " [0.44488189]\n",
            " [0.4015748 ]\n",
            " [0.75984252]\n",
            " [0.54724409]\n",
            " [0.64173228]\n",
            " [0.45669291]\n",
            " [0.72834646]\n",
            " [0.34251969]\n",
            " [0.71653543]\n",
            " [0.42125984]\n",
            " [0.43307087]\n",
            " [0.7519685 ]\n",
            " [0.61023622]\n",
            " [0.65354331]\n",
            " [0.2519685 ]\n",
            " [0.80708661]\n",
            " [0.94094488]\n",
            " [0.56692913]\n",
            " [0.65748031]\n",
            " [0.53543307]\n",
            " [0.56692913]\n",
            " [0.27165354]\n",
            " [0.64566929]\n",
            " [0.68110236]\n",
            " [0.59055118]\n",
            " [0.14566929]\n",
            " [0.06299213]\n",
            " [0.53937008]\n",
            " [0.60629921]\n",
            " [0.74409449]\n",
            " [0.62992126]\n",
            " [0.93700787]\n",
            " [0.61811024]\n",
            " [0.78346457]\n",
            " [0.61023622]\n",
            " [0.8503937 ]\n",
            " [0.38976378]\n",
            " [0.7480315 ]\n",
            " [0.64173228]\n",
            " [0.31496063]\n",
            " [0.58661417]\n",
            " [0.52755906]\n",
            " [0.77165354]\n",
            " [0.70866142]\n",
            " [0.54724409]\n",
            " [0.5984252 ]\n",
            " [0.82677165]\n",
            " [0.31889764]\n",
            " [0.4015748 ]\n",
            " [0.40551181]\n",
            " [0.45669291]\n",
            " [0.66141732]\n",
            " [0.22440945]\n",
            " [0.47244094]\n",
            " [0.73228346]\n",
            " [0.61417323]\n",
            " [0.59448819]\n",
            " [0.12598425]\n",
            " [0.47637795]\n",
            " [0.66141732]\n",
            " [0.62598425]\n",
            " [0.63385827]\n",
            " [0.8976378 ]\n",
            " [0.28346457]\n",
            " [1.        ]\n",
            " [0.36220472]\n",
            " [0.61417323]\n",
            " [0.96850394]\n",
            " [0.48818898]\n",
            " [0.73228346]\n",
            " [0.40944882]\n",
            " [0.58267717]\n",
            " [0.48818898]\n",
            " [0.87401575]\n",
            " [0.71653543]\n",
            " [0.44488189]\n",
            " [0.62598425]\n",
            " [0.45669291]\n",
            " [0.58267717]\n",
            " [0.16929134]\n",
            " [0.31889764]\n",
            " [0.51574803]\n",
            " [0.33464567]\n",
            " [0.70866142]\n",
            " [0.34645669]\n",
            " [0.82677165]\n",
            " [0.33464567]\n",
            " [0.        ]\n",
            " [0.39370079]\n",
            " [0.71259843]\n",
            " [0.61417323]\n",
            " [0.41732283]\n",
            " [0.56692913]\n",
            " [0.60629921]\n",
            " [0.21259843]\n",
            " [0.66141732]\n",
            " [0.64566929]\n",
            " [0.75984252]\n",
            " [0.42519685]\n",
            " [0.22047244]\n",
            " [0.68503937]\n",
            " [0.7007874 ]\n",
            " [0.62992126]\n",
            " [0.71653543]]\n"
          ]
        }
      ],
      "source": [
        "X_train2 = X[train_indices]\n",
        "y_train2 = y[train_indices]\n",
        "X_test2 = X[test_indices]\n",
        "y_test2 = y[test_indices]\n",
        "# print(X_train2)\n",
        "# print(y_train2)"
      ]
    },
    {
      "cell_type": "code",
      "execution_count": 359,
      "metadata": {},
      "outputs": [
        {
          "name": "stdout",
          "output_type": "stream",
          "text": [
            "[[0.12415685]\n",
            " [0.63458234]\n",
            " [0.19712165]\n",
            " [0.01941247]]\n"
          ]
        }
      ],
      "source": [
        "model2 = LinearRegressionClosedForm()\n",
        "model2.train(X_train2, y_train2)\n",
        "# print(model2.weights)"
      ]
    },
    {
      "cell_type": "code",
      "execution_count": 360,
      "metadata": {},
      "outputs": [
        {
          "name": "stdout",
          "output_type": "stream",
          "text": [
            "Training MSE: 0.0041\n",
            "Test MSE: 0.0045\n"
          ]
        }
      ],
      "source": [
        "print(\"Training MSE: {:.4f}\".format(mean_squared_error(model2.predict(X_train2), y_train2)))\n",
        "print(\"Test MSE: {:.4f}\".format(mean_squared_error(model2.predict(X_test2), y_test2)))"
      ]
    },
    {
      "cell_type": "markdown",
      "metadata": {
        "id": "xcC2tNgp4RHC"
      },
      "source": [
        "## Question 2 (50 points)\n",
        "\n",
        "## Logistic Regression\n",
        "\n",
        "In this section, we'll implement a logistic regression model that can learn to predict the class/label of a target/dependent variable based on multiple independent variables. We'll be using gradient descent to train the model."
      ]
    },
    {
      "cell_type": "markdown",
      "metadata": {
        "id": "CA8ztGQY4RHC"
      },
      "source": [
        "### Data Preparation\n",
        "Once again, to keep things simple, first we'll use the heights and weights dataset to test our implementation. Let's divide the weights into 2 categories: 0 if the weight is < 60 and 1 otherwise. Our goal is to predict the weight category of an individual given their height using a logistic regression model."
      ]
    },
    {
      "cell_type": "code",
      "execution_count": 4,
      "metadata": {
        "id": "Y7ERJOsO4RHC"
      },
      "outputs": [
        {
          "data": {
            "text/html": [
              "<div>\n",
              "<style scoped>\n",
              "    .dataframe tbody tr th:only-of-type {\n",
              "        vertical-align: middle;\n",
              "    }\n",
              "\n",
              "    .dataframe tbody tr th {\n",
              "        vertical-align: top;\n",
              "    }\n",
              "\n",
              "    .dataframe thead th {\n",
              "        text-align: right;\n",
              "    }\n",
              "</style>\n",
              "<table border=\"1\" class=\"dataframe\">\n",
              "  <thead>\n",
              "    <tr style=\"text-align: right;\">\n",
              "      <th></th>\n",
              "      <th>Height</th>\n",
              "      <th>Weight</th>\n",
              "    </tr>\n",
              "  </thead>\n",
              "  <tbody>\n",
              "    <tr>\n",
              "      <th>0</th>\n",
              "      <td>1.47</td>\n",
              "      <td>52.21</td>\n",
              "    </tr>\n",
              "    <tr>\n",
              "      <th>1</th>\n",
              "      <td>1.50</td>\n",
              "      <td>53.12</td>\n",
              "    </tr>\n",
              "    <tr>\n",
              "      <th>2</th>\n",
              "      <td>1.52</td>\n",
              "      <td>54.48</td>\n",
              "    </tr>\n",
              "    <tr>\n",
              "      <th>3</th>\n",
              "      <td>1.55</td>\n",
              "      <td>55.84</td>\n",
              "    </tr>\n",
              "    <tr>\n",
              "      <th>4</th>\n",
              "      <td>1.57</td>\n",
              "      <td>57.20</td>\n",
              "    </tr>\n",
              "  </tbody>\n",
              "</table>\n",
              "</div>"
            ],
            "text/plain": [
              "   Height  Weight\n",
              "0    1.47   52.21\n",
              "1    1.50   53.12\n",
              "2    1.52   54.48\n",
              "3    1.55   55.84\n",
              "4    1.57   57.20"
            ]
          },
          "execution_count": 4,
          "metadata": {},
          "output_type": "execute_result"
        }
      ],
      "source": [
        "df = pd.read_csv('heights.csv')\n",
        "df.head()"
      ]
    },
    {
      "cell_type": "code",
      "execution_count": 5,
      "metadata": {
        "id": "iprV7qbF4RHC"
      },
      "outputs": [],
      "source": [
        "X_train = np.array(df['Height'])\n",
        "y_train = np.array((df['Weight'] >= 60).astype('float'))\n",
        "X_train = np.expand_dims(X_train, -1)"
      ]
    },
    {
      "cell_type": "markdown",
      "metadata": {
        "id": "yjEHEaPM4RHD"
      },
      "source": [
        "### (30 points) Implement the ` LogisticRegression` class\n",
        "Make sure it works with more than 1 feature.  \n",
        "**NOTE:** Do **NOT** forget to include a bias term in the weights."
      ]
    },
    {
      "cell_type": "code",
      "execution_count": null,
      "metadata": {},
      "outputs": [],
      "source": [
        "class LogisticRegression():\n",
        "    def __init__(self,lr,epoch):\n",
        "        self.w = None\n",
        "        self.lr=lr\n",
        "        self.epoch=epoch\n",
        "    \n",
        "    def train(self,x,y):\n",
        "        # Create a column of ones (shape: m x 1)\n",
        "        ones_column = np.ones((x.shape[0], 1))\n",
        "        # Concatenate the column of ones with the original array\n",
        "        x = np.hstack((ones_column, x))\n",
        "        y = y.reshape((x.shape[0], 1))\n",
        "        self.w = np.random.randn(x.shape[1],1)\n",
        "        for i in range(self.epoch):\n",
        "            self.update_weights(x,y)\n",
        "    \n",
        "    def sigmoid(self,z):\n",
        "        return 1/(1+np.exp(-z))\n",
        "\n",
        "    def update_weights(self,x,y):\n",
        "        z=np.dot(x,self.w)\n",
        "        a=self.sigmoid(z)\n",
        "\n",
        "        dw = np.dot(x.T,(a-y))\n",
        "\n",
        "        self.w=self.w-(self.lr*dw)\n",
        "\n",
        "    def predict(self,x):\n",
        "        ones_column = np.ones((x.shape[0], 1))\n",
        "        x = np.hstack((ones_column, x))\n",
        "        z=np.dot(x,self.w)\n",
        "        a=self.sigmoid(z)\n",
        "        return a"
      ]
    },
    {
      "cell_type": "markdown",
      "metadata": {
        "id": "aIHKSSm84RHE"
      },
      "source": [
        "### Build the model and train on the dataset."
      ]
    },
    {
      "cell_type": "code",
      "execution_count": 6,
      "metadata": {
        "id": "sRGl9dRH4RHE"
      },
      "outputs": [
        {
          "ename": "NameError",
          "evalue": "name 'LogisticRegression' is not defined",
          "output_type": "error",
          "traceback": [
            "\u001b[1;31m---------------------------------------------------------------------------\u001b[0m",
            "\u001b[1;31mNameError\u001b[0m                                 Traceback (most recent call last)",
            "Cell \u001b[1;32mIn[6], line 1\u001b[0m\n\u001b[1;32m----> 1\u001b[0m model\u001b[38;5;241m=\u001b[39m\u001b[43mLogisticRegression\u001b[49m(\u001b[38;5;241m0.01\u001b[39m,\u001b[38;5;241m10000\u001b[39m)\n\u001b[0;32m      2\u001b[0m model\u001b[38;5;241m.\u001b[39mtrain(X_train,y_train)\n",
            "\u001b[1;31mNameError\u001b[0m: name 'LogisticRegression' is not defined"
          ]
        }
      ],
      "source": [
        "model=LogisticRegression(0.01,10000)\n",
        "model.train(X_train,y_train)"
      ]
    },
    {
      "cell_type": "code",
      "execution_count": 7,
      "metadata": {},
      "outputs": [
        {
          "data": {
            "text/html": [
              "<style>#sk-container-id-1 {\n",
              "  /* Definition of color scheme common for light and dark mode */\n",
              "  --sklearn-color-text: black;\n",
              "  --sklearn-color-line: gray;\n",
              "  /* Definition of color scheme for unfitted estimators */\n",
              "  --sklearn-color-unfitted-level-0: #fff5e6;\n",
              "  --sklearn-color-unfitted-level-1: #f6e4d2;\n",
              "  --sklearn-color-unfitted-level-2: #ffe0b3;\n",
              "  --sklearn-color-unfitted-level-3: chocolate;\n",
              "  /* Definition of color scheme for fitted estimators */\n",
              "  --sklearn-color-fitted-level-0: #f0f8ff;\n",
              "  --sklearn-color-fitted-level-1: #d4ebff;\n",
              "  --sklearn-color-fitted-level-2: #b3dbfd;\n",
              "  --sklearn-color-fitted-level-3: cornflowerblue;\n",
              "\n",
              "  /* Specific color for light theme */\n",
              "  --sklearn-color-text-on-default-background: var(--sg-text-color, var(--theme-code-foreground, var(--jp-content-font-color1, black)));\n",
              "  --sklearn-color-background: var(--sg-background-color, var(--theme-background, var(--jp-layout-color0, white)));\n",
              "  --sklearn-color-border-box: var(--sg-text-color, var(--theme-code-foreground, var(--jp-content-font-color1, black)));\n",
              "  --sklearn-color-icon: #696969;\n",
              "\n",
              "  @media (prefers-color-scheme: dark) {\n",
              "    /* Redefinition of color scheme for dark theme */\n",
              "    --sklearn-color-text-on-default-background: var(--sg-text-color, var(--theme-code-foreground, var(--jp-content-font-color1, white)));\n",
              "    --sklearn-color-background: var(--sg-background-color, var(--theme-background, var(--jp-layout-color0, #111)));\n",
              "    --sklearn-color-border-box: var(--sg-text-color, var(--theme-code-foreground, var(--jp-content-font-color1, white)));\n",
              "    --sklearn-color-icon: #878787;\n",
              "  }\n",
              "}\n",
              "\n",
              "#sk-container-id-1 {\n",
              "  color: var(--sklearn-color-text);\n",
              "}\n",
              "\n",
              "#sk-container-id-1 pre {\n",
              "  padding: 0;\n",
              "}\n",
              "\n",
              "#sk-container-id-1 input.sk-hidden--visually {\n",
              "  border: 0;\n",
              "  clip: rect(1px 1px 1px 1px);\n",
              "  clip: rect(1px, 1px, 1px, 1px);\n",
              "  height: 1px;\n",
              "  margin: -1px;\n",
              "  overflow: hidden;\n",
              "  padding: 0;\n",
              "  position: absolute;\n",
              "  width: 1px;\n",
              "}\n",
              "\n",
              "#sk-container-id-1 div.sk-dashed-wrapped {\n",
              "  border: 1px dashed var(--sklearn-color-line);\n",
              "  margin: 0 0.4em 0.5em 0.4em;\n",
              "  box-sizing: border-box;\n",
              "  padding-bottom: 0.4em;\n",
              "  background-color: var(--sklearn-color-background);\n",
              "}\n",
              "\n",
              "#sk-container-id-1 div.sk-container {\n",
              "  /* jupyter's `normalize.less` sets `[hidden] { display: none; }`\n",
              "     but bootstrap.min.css set `[hidden] { display: none !important; }`\n",
              "     so we also need the `!important` here to be able to override the\n",
              "     default hidden behavior on the sphinx rendered scikit-learn.org.\n",
              "     See: https://github.com/scikit-learn/scikit-learn/issues/21755 */\n",
              "  display: inline-block !important;\n",
              "  position: relative;\n",
              "}\n",
              "\n",
              "#sk-container-id-1 div.sk-text-repr-fallback {\n",
              "  display: none;\n",
              "}\n",
              "\n",
              "div.sk-parallel-item,\n",
              "div.sk-serial,\n",
              "div.sk-item {\n",
              "  /* draw centered vertical line to link estimators */\n",
              "  background-image: linear-gradient(var(--sklearn-color-text-on-default-background), var(--sklearn-color-text-on-default-background));\n",
              "  background-size: 2px 100%;\n",
              "  background-repeat: no-repeat;\n",
              "  background-position: center center;\n",
              "}\n",
              "\n",
              "/* Parallel-specific style estimator block */\n",
              "\n",
              "#sk-container-id-1 div.sk-parallel-item::after {\n",
              "  content: \"\";\n",
              "  width: 100%;\n",
              "  border-bottom: 2px solid var(--sklearn-color-text-on-default-background);\n",
              "  flex-grow: 1;\n",
              "}\n",
              "\n",
              "#sk-container-id-1 div.sk-parallel {\n",
              "  display: flex;\n",
              "  align-items: stretch;\n",
              "  justify-content: center;\n",
              "  background-color: var(--sklearn-color-background);\n",
              "  position: relative;\n",
              "}\n",
              "\n",
              "#sk-container-id-1 div.sk-parallel-item {\n",
              "  display: flex;\n",
              "  flex-direction: column;\n",
              "}\n",
              "\n",
              "#sk-container-id-1 div.sk-parallel-item:first-child::after {\n",
              "  align-self: flex-end;\n",
              "  width: 50%;\n",
              "}\n",
              "\n",
              "#sk-container-id-1 div.sk-parallel-item:last-child::after {\n",
              "  align-self: flex-start;\n",
              "  width: 50%;\n",
              "}\n",
              "\n",
              "#sk-container-id-1 div.sk-parallel-item:only-child::after {\n",
              "  width: 0;\n",
              "}\n",
              "\n",
              "/* Serial-specific style estimator block */\n",
              "\n",
              "#sk-container-id-1 div.sk-serial {\n",
              "  display: flex;\n",
              "  flex-direction: column;\n",
              "  align-items: center;\n",
              "  background-color: var(--sklearn-color-background);\n",
              "  padding-right: 1em;\n",
              "  padding-left: 1em;\n",
              "}\n",
              "\n",
              "\n",
              "/* Toggleable style: style used for estimator/Pipeline/ColumnTransformer box that is\n",
              "clickable and can be expanded/collapsed.\n",
              "- Pipeline and ColumnTransformer use this feature and define the default style\n",
              "- Estimators will overwrite some part of the style using the `sk-estimator` class\n",
              "*/\n",
              "\n",
              "/* Pipeline and ColumnTransformer style (default) */\n",
              "\n",
              "#sk-container-id-1 div.sk-toggleable {\n",
              "  /* Default theme specific background. It is overwritten whether we have a\n",
              "  specific estimator or a Pipeline/ColumnTransformer */\n",
              "  background-color: var(--sklearn-color-background);\n",
              "}\n",
              "\n",
              "/* Toggleable label */\n",
              "#sk-container-id-1 label.sk-toggleable__label {\n",
              "  cursor: pointer;\n",
              "  display: block;\n",
              "  width: 100%;\n",
              "  margin-bottom: 0;\n",
              "  padding: 0.5em;\n",
              "  box-sizing: border-box;\n",
              "  text-align: center;\n",
              "}\n",
              "\n",
              "#sk-container-id-1 label.sk-toggleable__label-arrow:before {\n",
              "  /* Arrow on the left of the label */\n",
              "  content: \"▸\";\n",
              "  float: left;\n",
              "  margin-right: 0.25em;\n",
              "  color: var(--sklearn-color-icon);\n",
              "}\n",
              "\n",
              "#sk-container-id-1 label.sk-toggleable__label-arrow:hover:before {\n",
              "  color: var(--sklearn-color-text);\n",
              "}\n",
              "\n",
              "/* Toggleable content - dropdown */\n",
              "\n",
              "#sk-container-id-1 div.sk-toggleable__content {\n",
              "  max-height: 0;\n",
              "  max-width: 0;\n",
              "  overflow: hidden;\n",
              "  text-align: left;\n",
              "  /* unfitted */\n",
              "  background-color: var(--sklearn-color-unfitted-level-0);\n",
              "}\n",
              "\n",
              "#sk-container-id-1 div.sk-toggleable__content.fitted {\n",
              "  /* fitted */\n",
              "  background-color: var(--sklearn-color-fitted-level-0);\n",
              "}\n",
              "\n",
              "#sk-container-id-1 div.sk-toggleable__content pre {\n",
              "  margin: 0.2em;\n",
              "  border-radius: 0.25em;\n",
              "  color: var(--sklearn-color-text);\n",
              "  /* unfitted */\n",
              "  background-color: var(--sklearn-color-unfitted-level-0);\n",
              "}\n",
              "\n",
              "#sk-container-id-1 div.sk-toggleable__content.fitted pre {\n",
              "  /* unfitted */\n",
              "  background-color: var(--sklearn-color-fitted-level-0);\n",
              "}\n",
              "\n",
              "#sk-container-id-1 input.sk-toggleable__control:checked~div.sk-toggleable__content {\n",
              "  /* Expand drop-down */\n",
              "  max-height: 200px;\n",
              "  max-width: 100%;\n",
              "  overflow: auto;\n",
              "}\n",
              "\n",
              "#sk-container-id-1 input.sk-toggleable__control:checked~label.sk-toggleable__label-arrow:before {\n",
              "  content: \"▾\";\n",
              "}\n",
              "\n",
              "/* Pipeline/ColumnTransformer-specific style */\n",
              "\n",
              "#sk-container-id-1 div.sk-label input.sk-toggleable__control:checked~label.sk-toggleable__label {\n",
              "  color: var(--sklearn-color-text);\n",
              "  background-color: var(--sklearn-color-unfitted-level-2);\n",
              "}\n",
              "\n",
              "#sk-container-id-1 div.sk-label.fitted input.sk-toggleable__control:checked~label.sk-toggleable__label {\n",
              "  background-color: var(--sklearn-color-fitted-level-2);\n",
              "}\n",
              "\n",
              "/* Estimator-specific style */\n",
              "\n",
              "/* Colorize estimator box */\n",
              "#sk-container-id-1 div.sk-estimator input.sk-toggleable__control:checked~label.sk-toggleable__label {\n",
              "  /* unfitted */\n",
              "  background-color: var(--sklearn-color-unfitted-level-2);\n",
              "}\n",
              "\n",
              "#sk-container-id-1 div.sk-estimator.fitted input.sk-toggleable__control:checked~label.sk-toggleable__label {\n",
              "  /* fitted */\n",
              "  background-color: var(--sklearn-color-fitted-level-2);\n",
              "}\n",
              "\n",
              "#sk-container-id-1 div.sk-label label.sk-toggleable__label,\n",
              "#sk-container-id-1 div.sk-label label {\n",
              "  /* The background is the default theme color */\n",
              "  color: var(--sklearn-color-text-on-default-background);\n",
              "}\n",
              "\n",
              "/* On hover, darken the color of the background */\n",
              "#sk-container-id-1 div.sk-label:hover label.sk-toggleable__label {\n",
              "  color: var(--sklearn-color-text);\n",
              "  background-color: var(--sklearn-color-unfitted-level-2);\n",
              "}\n",
              "\n",
              "/* Label box, darken color on hover, fitted */\n",
              "#sk-container-id-1 div.sk-label.fitted:hover label.sk-toggleable__label.fitted {\n",
              "  color: var(--sklearn-color-text);\n",
              "  background-color: var(--sklearn-color-fitted-level-2);\n",
              "}\n",
              "\n",
              "/* Estimator label */\n",
              "\n",
              "#sk-container-id-1 div.sk-label label {\n",
              "  font-family: monospace;\n",
              "  font-weight: bold;\n",
              "  display: inline-block;\n",
              "  line-height: 1.2em;\n",
              "}\n",
              "\n",
              "#sk-container-id-1 div.sk-label-container {\n",
              "  text-align: center;\n",
              "}\n",
              "\n",
              "/* Estimator-specific */\n",
              "#sk-container-id-1 div.sk-estimator {\n",
              "  font-family: monospace;\n",
              "  border: 1px dotted var(--sklearn-color-border-box);\n",
              "  border-radius: 0.25em;\n",
              "  box-sizing: border-box;\n",
              "  margin-bottom: 0.5em;\n",
              "  /* unfitted */\n",
              "  background-color: var(--sklearn-color-unfitted-level-0);\n",
              "}\n",
              "\n",
              "#sk-container-id-1 div.sk-estimator.fitted {\n",
              "  /* fitted */\n",
              "  background-color: var(--sklearn-color-fitted-level-0);\n",
              "}\n",
              "\n",
              "/* on hover */\n",
              "#sk-container-id-1 div.sk-estimator:hover {\n",
              "  /* unfitted */\n",
              "  background-color: var(--sklearn-color-unfitted-level-2);\n",
              "}\n",
              "\n",
              "#sk-container-id-1 div.sk-estimator.fitted:hover {\n",
              "  /* fitted */\n",
              "  background-color: var(--sklearn-color-fitted-level-2);\n",
              "}\n",
              "\n",
              "/* Specification for estimator info (e.g. \"i\" and \"?\") */\n",
              "\n",
              "/* Common style for \"i\" and \"?\" */\n",
              "\n",
              ".sk-estimator-doc-link,\n",
              "a:link.sk-estimator-doc-link,\n",
              "a:visited.sk-estimator-doc-link {\n",
              "  float: right;\n",
              "  font-size: smaller;\n",
              "  line-height: 1em;\n",
              "  font-family: monospace;\n",
              "  background-color: var(--sklearn-color-background);\n",
              "  border-radius: 1em;\n",
              "  height: 1em;\n",
              "  width: 1em;\n",
              "  text-decoration: none !important;\n",
              "  margin-left: 1ex;\n",
              "  /* unfitted */\n",
              "  border: var(--sklearn-color-unfitted-level-1) 1pt solid;\n",
              "  color: var(--sklearn-color-unfitted-level-1);\n",
              "}\n",
              "\n",
              ".sk-estimator-doc-link.fitted,\n",
              "a:link.sk-estimator-doc-link.fitted,\n",
              "a:visited.sk-estimator-doc-link.fitted {\n",
              "  /* fitted */\n",
              "  border: var(--sklearn-color-fitted-level-1) 1pt solid;\n",
              "  color: var(--sklearn-color-fitted-level-1);\n",
              "}\n",
              "\n",
              "/* On hover */\n",
              "div.sk-estimator:hover .sk-estimator-doc-link:hover,\n",
              ".sk-estimator-doc-link:hover,\n",
              "div.sk-label-container:hover .sk-estimator-doc-link:hover,\n",
              ".sk-estimator-doc-link:hover {\n",
              "  /* unfitted */\n",
              "  background-color: var(--sklearn-color-unfitted-level-3);\n",
              "  color: var(--sklearn-color-background);\n",
              "  text-decoration: none;\n",
              "}\n",
              "\n",
              "div.sk-estimator.fitted:hover .sk-estimator-doc-link.fitted:hover,\n",
              ".sk-estimator-doc-link.fitted:hover,\n",
              "div.sk-label-container:hover .sk-estimator-doc-link.fitted:hover,\n",
              ".sk-estimator-doc-link.fitted:hover {\n",
              "  /* fitted */\n",
              "  background-color: var(--sklearn-color-fitted-level-3);\n",
              "  color: var(--sklearn-color-background);\n",
              "  text-decoration: none;\n",
              "}\n",
              "\n",
              "/* Span, style for the box shown on hovering the info icon */\n",
              ".sk-estimator-doc-link span {\n",
              "  display: none;\n",
              "  z-index: 9999;\n",
              "  position: relative;\n",
              "  font-weight: normal;\n",
              "  right: .2ex;\n",
              "  padding: .5ex;\n",
              "  margin: .5ex;\n",
              "  width: min-content;\n",
              "  min-width: 20ex;\n",
              "  max-width: 50ex;\n",
              "  color: var(--sklearn-color-text);\n",
              "  box-shadow: 2pt 2pt 4pt #999;\n",
              "  /* unfitted */\n",
              "  background: var(--sklearn-color-unfitted-level-0);\n",
              "  border: .5pt solid var(--sklearn-color-unfitted-level-3);\n",
              "}\n",
              "\n",
              ".sk-estimator-doc-link.fitted span {\n",
              "  /* fitted */\n",
              "  background: var(--sklearn-color-fitted-level-0);\n",
              "  border: var(--sklearn-color-fitted-level-3);\n",
              "}\n",
              "\n",
              ".sk-estimator-doc-link:hover span {\n",
              "  display: block;\n",
              "}\n",
              "\n",
              "/* \"?\"-specific style due to the `<a>` HTML tag */\n",
              "\n",
              "#sk-container-id-1 a.estimator_doc_link {\n",
              "  float: right;\n",
              "  font-size: 1rem;\n",
              "  line-height: 1em;\n",
              "  font-family: monospace;\n",
              "  background-color: var(--sklearn-color-background);\n",
              "  border-radius: 1rem;\n",
              "  height: 1rem;\n",
              "  width: 1rem;\n",
              "  text-decoration: none;\n",
              "  /* unfitted */\n",
              "  color: var(--sklearn-color-unfitted-level-1);\n",
              "  border: var(--sklearn-color-unfitted-level-1) 1pt solid;\n",
              "}\n",
              "\n",
              "#sk-container-id-1 a.estimator_doc_link.fitted {\n",
              "  /* fitted */\n",
              "  border: var(--sklearn-color-fitted-level-1) 1pt solid;\n",
              "  color: var(--sklearn-color-fitted-level-1);\n",
              "}\n",
              "\n",
              "/* On hover */\n",
              "#sk-container-id-1 a.estimator_doc_link:hover {\n",
              "  /* unfitted */\n",
              "  background-color: var(--sklearn-color-unfitted-level-3);\n",
              "  color: var(--sklearn-color-background);\n",
              "  text-decoration: none;\n",
              "}\n",
              "\n",
              "#sk-container-id-1 a.estimator_doc_link.fitted:hover {\n",
              "  /* fitted */\n",
              "  background-color: var(--sklearn-color-fitted-level-3);\n",
              "}\n",
              "</style><div id=\"sk-container-id-1\" class=\"sk-top-container\"><div class=\"sk-text-repr-fallback\"><pre>LogisticRegression(max_iter=1000)</pre><b>In a Jupyter environment, please rerun this cell to show the HTML representation or trust the notebook. <br />On GitHub, the HTML representation is unable to render, please try loading this page with nbviewer.org.</b></div><div class=\"sk-container\" hidden><div class=\"sk-item\"><div class=\"sk-estimator fitted sk-toggleable\"><input class=\"sk-toggleable__control sk-hidden--visually\" id=\"sk-estimator-id-1\" type=\"checkbox\" checked><label for=\"sk-estimator-id-1\" class=\"sk-toggleable__label fitted sk-toggleable__label-arrow fitted\">&nbsp;&nbsp;LogisticRegression<a class=\"sk-estimator-doc-link fitted\" rel=\"noreferrer\" target=\"_blank\" href=\"https://scikit-learn.org/1.4/modules/generated/sklearn.linear_model.LogisticRegression.html\">?<span>Documentation for LogisticRegression</span></a><span class=\"sk-estimator-doc-link fitted\">i<span>Fitted</span></span></label><div class=\"sk-toggleable__content fitted\"><pre>LogisticRegression(max_iter=1000)</pre></div> </div></div></div></div>"
            ],
            "text/plain": [
              "LogisticRegression(max_iter=1000)"
            ]
          },
          "execution_count": 7,
          "metadata": {},
          "output_type": "execute_result"
        }
      ],
      "source": [
        "from sklearn.linear_model import LogisticRegression\n",
        "model = LogisticRegression(max_iter=1000)\n",
        "\n",
        "# Fit the model to the training data\n",
        "model.fit(X_train, y_train)"
      ]
    },
    {
      "cell_type": "markdown",
      "metadata": {
        "id": "DWTcEd7I4RHF"
      },
      "source": [
        "### (5 points) Implement the evaluation metric `accuracy`.\n",
        "We use the [accuracy](https://developers.google.com/machine-learning/crash-course/classification/accuracy) as the metric to evaluate our model."
      ]
    },
    {
      "cell_type": "code",
      "execution_count": 8,
      "metadata": {
        "id": "yv6LbsKL4RHF"
      },
      "outputs": [],
      "source": [
        "def accuracy(y_pred, y_actual):\n",
        "    \"\"\"\n",
        "    Calculates the accuracy of the predictions (binary values).\n",
        "\n",
        "    Args:\n",
        "        y_pred: predicted probabilities\n",
        "        y_actual: actual/true values\n",
        "\n",
        "    Returns:\n",
        "        The accuracy.\n",
        "    \"\"\"\n",
        "    # Convert probabilities to binary predictions\n",
        "    y_pred_binary = (y_pred >= 0.5).astype(int)\n",
        "    # Calculate accuracy\n",
        "    correct_predictions = len(np.where(y_pred_binary.flatten() == y_actual)[0])\n",
        "    accuracy = correct_predictions / len(y_actual)\n",
        "    \n",
        "    return accuracy"
      ]
    },
    {
      "cell_type": "markdown",
      "metadata": {
        "id": "0ycc9Syi4RHF"
      },
      "source": [
        "### Make predictions using the model and evaluate it."
      ]
    },
    {
      "cell_type": "code",
      "execution_count": 9,
      "metadata": {
        "id": "H-dveNV54RHF"
      },
      "outputs": [
        {
          "name": "stdout",
          "output_type": "stream",
          "text": [
            "Train Accuracy: 0.5333333333333333\n"
          ]
        }
      ],
      "source": [
        "y_pred_probs = model.predict(X_train)\n",
        "y_pred = (y_pred_probs >= 0.5).astype('float')\n",
        "print(\"Train Accuracy: {}\".format(accuracy(y_pred, y_train)))"
      ]
    },
    {
      "cell_type": "markdown",
      "metadata": {
        "id": "7oMq4zVx4RHF"
      },
      "source": [
        "### Plot the predicted and the actual values."
      ]
    },
    {
      "cell_type": "code",
      "execution_count": 367,
      "metadata": {
        "id": "BHFg-jO54RHF"
      },
      "outputs": [
        {
          "data": {
            "image/png": "[encoded data removed]",
            "text/plain": [
              "<Figure size 640x480 with 1 Axes>"
            ]
          },
          "metadata": {},
          "output_type": "display_data"
        }
      ],
      "source": [
        "import matplotlib.pyplot as plt\n",
        "\n",
        "plt.scatter(X_train, y_train, marker='x', label='actual')\n",
        "plt.scatter(X_train, y_pred, marker='o', label='predicted')\n",
        "plt.scatter(X_train, y_pred_probs, marker='o', label='predicted probabilities')\n",
        "plt.legend()\n",
        "plt.show()"
      ]
    },
    {
      "cell_type": "markdown",
      "metadata": {
        "id": "ShLgz8vN-gdg"
      },
      "source": [
        "# ** Use the Newton Raphson Method for the same** (75 marks)\n"
      ]
    },
    {
      "cell_type": "code",
      "execution_count": 368,
      "metadata": {
        "id": "kg9hn74OBJBG"
      },
      "outputs": [],
      "source": [
        "#####################\n",
        "#   YOUR CODE HERE   #\n",
        "######################\n",
        "class LogisticRegressionNewtonRaphson:\n",
        "    def __init__(self,epoch):\n",
        "        self.w=None\n",
        "        self.epoch=epoch\n",
        "\n",
        "    def sigmoid(self,z):\n",
        "        return 1/(1+np.exp(-z))\n",
        "\n",
        "    def train(self,x,y):\n",
        "        ones_column = np.ones((x.shape[0], 1))\n",
        "        # Concatenate the column of ones with the original array\n",
        "        x = np.hstack((ones_column, x))\n",
        "        y = y.reshape((x.shape[0], 1))\n",
        "        self.w = np.random.randn(x.shape[1],1)\n",
        "        for i in range(self.epoch):\n",
        "            self.update_weights(x,y)\n",
        "\n",
        "    def update_weights(self,x,y):\n",
        "        y_pred=self.sigmoid(np.dot(x,self.w))\n",
        "        p=np.dot(y_pred.T,(y_pred-1))\n",
        "        hessian= np.dot((x.T)*p,x)\n",
        "        gradient=np.dot(x.T,y-y_pred)\n",
        "        self.w-=np.linalg.solve(hessian,gradient)\n",
        "\n",
        "    def predict(self,x):\n",
        "        ones_column = np.ones((x.shape[0], 1))\n",
        "        # Concatenate the column of ones with the original array\n",
        "        x = np.hstack((ones_column, x))\n",
        "        y_pred=np.dot(x,self.w)\n",
        "        return y_pred"
      ]
    },
    {
      "cell_type": "code",
      "execution_count": 369,
      "metadata": {
        "id": "uXZdZQk8BJEq"
      },
      "outputs": [],
      "source": [
        "#####################\n",
        "#   YOUR CODE HERE   #\n",
        "######################\n",
        "model = LogisticRegressionNewtonRaphson(100)\n",
        "model.train(X_train, y_train)"
      ]
    },
    {
      "cell_type": "code",
      "execution_count": 370,
      "metadata": {
        "id": "AP-tXV1OBJK9"
      },
      "outputs": [
        {
          "name": "stdout",
          "output_type": "stream",
          "text": [
            "Train Accuracy: 0.9333333333333333\n"
          ]
        }
      ],
      "source": [
        "#####################\n",
        "#   YOUR CODE HERE   #\n",
        "######################\n",
        "y_pred_probs = model.predict(X_train)\n",
        "y_pred = (y_pred_probs >= 0.5).astype('float')\n",
        "print(\"Train Accuracy: {}\".format(accuracy(y_pred, y_train)))"
      ]
    },
    {
      "cell_type": "markdown",
      "metadata": {
        "id": "gxXn7KgR_nfp"
      },
      "source": [
        "# K Means Clustering(100 marks)\n",
        "\n"
      ]
    },
    {
      "cell_type": "code",
      "execution_count": 371,
      "metadata": {
        "id": "Djh2kIf7_rfk"
      },
      "outputs": [],
      "source": [
        "import numpy as np\n",
        "import matplotlib.pyplot as plt\n",
        "\n",
        "# Define the parameters of the two Gaussians\n",
        "mu1 = np.array([3, 3])\n",
        "Sigma1 = np.array([[1, 0], [0, 2]])\n",
        "\n",
        "mu2 = np.array([1, -3])\n",
        "Sigma2 = np.array([[2, 0], [0, 1]])\n",
        "\n",
        "mu3 = np.array([-10, 8])\n",
        "Sigma3 = np.array([[2, 0], [0, 2]])\n",
        "\n"
      ]
    },
    {
      "cell_type": "code",
      "execution_count": 372,
      "metadata": {
        "colab": {
          "base_uri": "https://localhost:8080/",
          "height": 564
        },
        "id": "t7V8rfCN_x_T",
        "outputId": "cfe473e2-1da7-4565-8359-3c9e9c881524"
      },
      "outputs": [
        {
          "data": {
            "image/png": "[encoded data removed]",
            "text/plain": [
              "<Figure size 800x600 with 1 Axes>"
            ]
          },
          "metadata": {},
          "output_type": "display_data"
        }
      ],
      "source": [
        "n_samples = 200\n",
        "samples1 = np.random.multivariate_normal(mu1, Sigma1, n_samples)\n",
        "samples2 = np.random.multivariate_normal(mu2, Sigma2, n_samples)\n",
        "samples3 = np.random.multivariate_normal(mu3, Sigma3, n_samples)\n",
        "\n",
        "# Plot the generated samples\n",
        "plt.figure(figsize=(8, 6))\n",
        "plt.scatter(samples1[:, 0], samples1[:, 1], c='red', label='Gaussian 1')\n",
        "plt.scatter(samples2[:, 0], samples2[:, 1], c='blue', label='Gaussian 2')\n",
        "plt.scatter(samples2[:, 0], samples3[:, 1], c='green', label='Gaussian 3')\n",
        "plt.xlabel('X1')\n",
        "plt.ylabel('X2')\n",
        "plt.title('Generated Samples from Two Gaussians')\n",
        "plt.legend()\n",
        "plt.grid(True)\n",
        "plt.show()"
      ]
    },
    {
      "cell_type": "markdown",
      "metadata": {
        "id": "l7SdDaTtBjlY"
      },
      "source": [
        "The above is the dataset generated from 3 gaussians, and a visualizations for the same, You need to assume that you have the data and then you use k means for the same your output should be similar to what is shown above"
      ]
    },
    {
      "cell_type": "code",
      "execution_count": 373,
      "metadata": {
        "id": "6h-0EeQvBA0W"
      },
      "outputs": [],
      "source": [
        "#####################\n",
        "#   YOUR CODE HERE   #\n",
        "######################\n",
        "import random\n",
        "\n",
        "class KmeansClustering():\n",
        "    def __init__(self,n_clusters=3,max_iter=100):\n",
        "        self.n_clusters=n_clusters\n",
        "        self.max_iter=max_iter\n",
        "        self.centroids=None\n",
        "\n",
        "    def fit_predict(self,x):\n",
        "        random_index=random.sample(range(0,x.shape[0]),self.n_clusters)\n",
        "        self.centroids=x[random_index]\n",
        "        for i in range(self.max_iter):\n",
        "            cluster_group=self.assign_cluster(x)\n",
        "            old_centroids=self.centroids\n",
        "            self.centroids=self.move_centroids(x,cluster_group)\n",
        "            if np.array_equal(old_centroids, self.centroids):\n",
        "                break\n",
        "\n",
        "        return cluster_group\n",
        "\n",
        "    def dist(self,x,centroid):\n",
        "        return np.sqrt(np.dot(x-centroid,x-centroid))  \n",
        "\n",
        "    def assign_cluster(self,x):\n",
        "        cluster_group=[]\n",
        "        for row in x:\n",
        "            distances=[]\n",
        "            for centroid in self.centroids:\n",
        "                distances.append(self.dist(row,centroid))\n",
        "            index_pos=distances.index(min(distances))\n",
        "            cluster_group.append(index_pos)\n",
        "\n",
        "        return np.array(cluster_group)\n",
        "\n",
        "    def move_centroids(self,x,cluster_group):\n",
        "        new_centroids=[]\n",
        "        for type in np.unique(cluster_group):\n",
        "            new_centroids.append(x[cluster_group==type].mean(axis=0))\n",
        "        return new_centroids\n"
      ]
    },
    {
      "cell_type": "code",
      "execution_count": 374,
      "metadata": {},
      "outputs": [],
      "source": [
        "# Combine the samples into one dataset\n",
        "X = np.vstack((samples1, samples2, samples3))\n",
        "kmeans = KmeansClustering()\n",
        "cluster_group=kmeans.fit_predict(X)"
      ]
    },
    {
      "cell_type": "code",
      "execution_count": 375,
      "metadata": {},
      "outputs": [
        {
          "data": {
            "image/png": "[encoded data removed]",
            "text/plain": [
              "<Figure size 640x480 with 1 Axes>"
            ]
          },
          "metadata": {},
          "output_type": "display_data"
        }
      ],
      "source": [
        "colors = ['r', 'g', 'b']\n",
        "\n",
        "for i in range(3):\n",
        "    cluster_points = X[cluster_group == i]\n",
        "    plt.scatter(cluster_points[:, 0],cluster_points[:, 1], c=colors[i], label=f'Cluster {i+1}', alpha=0.6)\n",
        "\n",
        "plt.title('K-Means Clustering of Generated Gaussian Data')\n",
        "plt.xlabel('Feature 1')\n",
        "plt.ylabel('Feature 2')\n",
        "plt.legend()\n",
        "plt.grid(True)\n",
        "plt.show()"
      ]
    }
  ],
  "metadata": {
    "colab": {
      "provenance": []
    },
    "kernelspec": {
      "display_name": "Python 3",
      "language": "python",
      "name": "python3"
    },
    "language_info": {
      "codemirror_mode": {
        "name": "ipython",
        "version": 3
      },
      "file_extension": ".py",
      "mimetype": "text/x-python",
      "name": "python",
      "nbconvert_exporter": "python",
      "pygments_lexer": "ipython3",
      "version": "3.12.3"
    }
  },
  "nbformat": 4,
  "nbformat_minor": 0
}
